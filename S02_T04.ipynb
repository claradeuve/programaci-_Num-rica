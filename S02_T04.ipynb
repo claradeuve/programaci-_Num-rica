{
 "cells": [
  {
   "cell_type": "markdown",
   "id": "00caaab4",
   "metadata": {},
   "source": [
    "## Exercici 1\n",
    "Crea una funció que donat un Array d’una dimensió, et faci un resum estadístic bàsic de les dades. Si detecta que l’array té més d’una dimensió, ha de mostrar un missatge d’error."
   ]
  },
  {
   "cell_type": "code",
   "execution_count": 33,
   "id": "a8d15e1f",
   "metadata": {},
   "outputs": [
    {
     "name": "stdout",
     "output_type": "stream",
     "text": [
      "[7 1 1]\n",
      "Total valors: 9\n",
      "Valor mínim: 1\n",
      "Valor màxim: 7\n",
      "Suma acumulada: [7 8 9]\n",
      "Mitjana: 3.0\n",
      "Mediana: 1.0\n",
      "Coeficient de correlació: 1.0\n",
      "Desviació típica: 2.8284271247461903\n",
      "\n"
     ]
    },
    {
     "ename": "Exception",
     "evalue": "ERROR: Array amb més de una dimensió",
     "output_type": "error",
     "traceback": [
      "\u001b[0;31m---------------------------------------------------------------------------\u001b[0m",
      "\u001b[0;31mException\u001b[0m                                 Traceback (most recent call last)",
      "\u001b[0;32m/var/folders/5j/t9djkx8d4pl6qlxm40r48rz40000gp/T/ipykernel_1550/2758360818.py\u001b[0m in \u001b[0;36m<module>\u001b[0;34m\u001b[0m\n\u001b[1;32m     32\u001b[0m \u001b[0;34m\u001b[0m\u001b[0m\n\u001b[1;32m     33\u001b[0m \u001b[0marray\u001b[0m \u001b[0;34m=\u001b[0m \u001b[0mnp\u001b[0m\u001b[0;34m.\u001b[0m\u001b[0marange\u001b[0m\u001b[0;34m(\u001b[0m\u001b[0;36m12\u001b[0m\u001b[0;34m)\u001b[0m\u001b[0;34m.\u001b[0m\u001b[0mreshape\u001b[0m\u001b[0;34m(\u001b[0m\u001b[0;34m(\u001b[0m\u001b[0;36m3\u001b[0m\u001b[0;34m,\u001b[0m \u001b[0;36m4\u001b[0m\u001b[0;34m)\u001b[0m\u001b[0;34m)\u001b[0m\u001b[0;34m\u001b[0m\u001b[0;34m\u001b[0m\u001b[0m\n\u001b[0;32m---> 34\u001b[0;31m \u001b[0minfoArray\u001b[0m\u001b[0;34m(\u001b[0m\u001b[0marray\u001b[0m\u001b[0;34m)\u001b[0m\u001b[0;34m\u001b[0m\u001b[0;34m\u001b[0m\u001b[0m\n\u001b[0m",
      "\u001b[0;32m/var/folders/5j/t9djkx8d4pl6qlxm40r48rz40000gp/T/ipykernel_1550/2758360818.py\u001b[0m in \u001b[0;36minfoArray\u001b[0;34m(array)\u001b[0m\n\u001b[1;32m      3\u001b[0m \u001b[0;32mdef\u001b[0m \u001b[0minfoArray\u001b[0m\u001b[0;34m(\u001b[0m\u001b[0marray\u001b[0m\u001b[0;34m)\u001b[0m\u001b[0;34m:\u001b[0m\u001b[0;34m\u001b[0m\u001b[0;34m\u001b[0m\u001b[0m\n\u001b[1;32m      4\u001b[0m     \u001b[0;32mif\u001b[0m \u001b[0marray\u001b[0m\u001b[0;34m.\u001b[0m\u001b[0mndim\u001b[0m \u001b[0;34m>\u001b[0m \u001b[0;36m1\u001b[0m\u001b[0;34m:\u001b[0m\u001b[0;34m\u001b[0m\u001b[0;34m\u001b[0m\u001b[0m\n\u001b[0;32m----> 5\u001b[0;31m         \u001b[0;32mraise\u001b[0m \u001b[0mException\u001b[0m\u001b[0;34m(\u001b[0m\u001b[0;34m\"ERROR: Array amb més de una dimensió\"\u001b[0m\u001b[0;34m)\u001b[0m\u001b[0;34m\u001b[0m\u001b[0;34m\u001b[0m\u001b[0m\n\u001b[0m\u001b[1;32m      6\u001b[0m \u001b[0;34m\u001b[0m\u001b[0m\n\u001b[1;32m      7\u001b[0m     \u001b[0mtotal_valors\u001b[0m \u001b[0;34m=\u001b[0m \u001b[0marray\u001b[0m\u001b[0;34m.\u001b[0m\u001b[0msum\u001b[0m\u001b[0;34m(\u001b[0m\u001b[0;34m)\u001b[0m\u001b[0;34m\u001b[0m\u001b[0;34m\u001b[0m\u001b[0m\n",
      "\u001b[0;31mException\u001b[0m: ERROR: Array amb més de una dimensió"
     ]
    }
   ],
   "source": [
    "import numpy as np\n",
    "\n",
    "def infoArray(array):\n",
    "    if array.ndim > 1:\n",
    "        raise Exception(\"ERROR: Array amb més de una dimensió\")\n",
    "    \n",
    "    total_valors = array.sum()\n",
    "    valor_min = array.min() \n",
    "    valor_max = array.max() \n",
    "    suma_acumulada = array.cumsum()\n",
    "    mitjana = array.mean()\n",
    "    mediana = np.median(array)\n",
    "    coeficient_correlacio = np.corrcoef(array)\n",
    "    desviacio_tipica = np.std(array)\n",
    "    \n",
    "    print(\n",
    "    str(array) + \"\\n\"\n",
    "    \"Total valors: \" + str(total_valors) + \"\\n\"\n",
    "    \"Valor mínim: \" + str(valor_min) + \"\\n\"\n",
    "    \"Valor màxim: \" + str(valor_max) + \"\\n\"\n",
    "    \"Suma acumulada: \" + str(suma_acumulada) + \"\\n\"\n",
    "    \"Mitjana: \" + str(mitjana) + \"\\n\"\n",
    "    \"Mediana: \" + str(mediana) + \"\\n\"\n",
    "    \"Coeficient de correlació: \" + str(coeficient_correlacio) + \"\\n\"\n",
    "    \"Desviació típica: \" + str(desviacio_tipica) + \"\\n\"\n",
    "    )\n",
    "\n",
    "    return total_valors, valor_min, valor_max, suma_acumulada, mitjana, mediana, coeficient_correlacio, desviacio_tipica\n",
    "\n",
    "array = np.random.randint(1, 9, 3)\n",
    "infoArray(array)\n",
    "\n",
    "array = np.arange(12).reshape((3, 4))\n",
    "infoArray(array)"
   ]
  },
  {
   "cell_type": "markdown",
   "id": "cf94b441",
   "metadata": {},
   "source": [
    "## Exercici 2\n",
    "Crea una funció que et generi un quadrat NxN de nombres aleatoris entre el 0 i el 100."
   ]
  },
  {
   "cell_type": "code",
   "execution_count": 55,
   "id": "5bfe0baf",
   "metadata": {},
   "outputs": [
    {
     "name": "stdout",
     "output_type": "stream",
     "text": [
      "[[35 62 35  1 79]\n",
      " [25 93 82 57 54]\n",
      " [11 42 92 25 11]\n",
      " [87 53 36  5 73]\n",
      " [97 27 43 54 48]]\n"
     ]
    }
   ],
   "source": [
    "def quadrat(N):\n",
    "    quadrat = np.random.randint(100, size=(N, N))\n",
    "    return quadrat\n",
    "\n",
    "print(quadrat(5))"
   ]
  },
  {
   "cell_type": "markdown",
   "id": "b1b7972d",
   "metadata": {},
   "source": [
    "## Exercici 3\n",
    "Crea una funció que donada una taula de dues dimensions, et calculi els totals per fila i els totals per columna."
   ]
  },
  {
   "cell_type": "code",
   "execution_count": 43,
   "id": "13cbd943",
   "metadata": {},
   "outputs": [
    {
     "name": "stdout",
     "output_type": "stream",
     "text": [
      "[[ 0  1  2  3]\n",
      " [ 4  5  6  7]\n",
      " [ 8  9 10 11]]\n",
      "[ 6 22 38]\n",
      "[12 15 18 21]\n"
     ]
    },
    {
     "ename": "Exception",
     "evalue": "ERROR: L'array no és una taula",
     "output_type": "error",
     "traceback": [
      "\u001b[0;31m---------------------------------------------------------------------------\u001b[0m",
      "\u001b[0;31mException\u001b[0m                                 Traceback (most recent call last)",
      "\u001b[0;32m/var/folders/5j/t9djkx8d4pl6qlxm40r48rz40000gp/T/ipykernel_1550/3427668251.py\u001b[0m in \u001b[0;36m<module>\u001b[0;34m\u001b[0m\n\u001b[1;32m     17\u001b[0m \u001b[0;34m\u001b[0m\u001b[0m\n\u001b[1;32m     18\u001b[0m \u001b[0mtaula\u001b[0m \u001b[0;34m=\u001b[0m \u001b[0mnp\u001b[0m\u001b[0;34m.\u001b[0m\u001b[0marange\u001b[0m\u001b[0;34m(\u001b[0m\u001b[0;36m27\u001b[0m\u001b[0;34m)\u001b[0m\u001b[0;34m.\u001b[0m\u001b[0mreshape\u001b[0m\u001b[0;34m(\u001b[0m\u001b[0;34m(\u001b[0m\u001b[0;36m3\u001b[0m\u001b[0;34m,\u001b[0m \u001b[0;36m3\u001b[0m\u001b[0;34m,\u001b[0m \u001b[0;36m3\u001b[0m\u001b[0;34m)\u001b[0m\u001b[0;34m)\u001b[0m\u001b[0;34m\u001b[0m\u001b[0;34m\u001b[0m\u001b[0m\n\u001b[0;32m---> 19\u001b[0;31m \u001b[0mfila\u001b[0m\u001b[0;34m,\u001b[0m \u001b[0mcol\u001b[0m \u001b[0;34m=\u001b[0m \u001b[0mtotalsFilaColumna\u001b[0m\u001b[0;34m(\u001b[0m\u001b[0mtaula\u001b[0m\u001b[0;34m)\u001b[0m\u001b[0;34m\u001b[0m\u001b[0;34m\u001b[0m\u001b[0m\n\u001b[0m\u001b[1;32m     20\u001b[0m \u001b[0;34m\u001b[0m\u001b[0m\n\u001b[1;32m     21\u001b[0m \u001b[0mprint\u001b[0m\u001b[0;34m(\u001b[0m\u001b[0mtaula\u001b[0m\u001b[0;34m)\u001b[0m\u001b[0;34m\u001b[0m\u001b[0;34m\u001b[0m\u001b[0m\n",
      "\u001b[0;32m/var/folders/5j/t9djkx8d4pl6qlxm40r48rz40000gp/T/ipykernel_1550/3427668251.py\u001b[0m in \u001b[0;36mtotalsFilaColumna\u001b[0;34m(taula)\u001b[0m\n\u001b[1;32m      1\u001b[0m \u001b[0;32mdef\u001b[0m \u001b[0mtotalsFilaColumna\u001b[0m\u001b[0;34m(\u001b[0m\u001b[0mtaula\u001b[0m\u001b[0;34m)\u001b[0m\u001b[0;34m:\u001b[0m\u001b[0;34m\u001b[0m\u001b[0;34m\u001b[0m\u001b[0m\n\u001b[1;32m      2\u001b[0m     \u001b[0;32mif\u001b[0m \u001b[0mtaula\u001b[0m\u001b[0;34m.\u001b[0m\u001b[0mndim\u001b[0m \u001b[0;34m!=\u001b[0m \u001b[0;36m2\u001b[0m\u001b[0;34m:\u001b[0m\u001b[0;34m\u001b[0m\u001b[0;34m\u001b[0m\u001b[0m\n\u001b[0;32m----> 3\u001b[0;31m         \u001b[0;32mraise\u001b[0m \u001b[0mException\u001b[0m\u001b[0;34m(\u001b[0m\u001b[0;34m\"ERROR: L'array no és una taula\"\u001b[0m\u001b[0;34m)\u001b[0m\u001b[0;34m\u001b[0m\u001b[0;34m\u001b[0m\u001b[0m\n\u001b[0m\u001b[1;32m      4\u001b[0m \u001b[0;34m\u001b[0m\u001b[0m\n\u001b[1;32m      5\u001b[0m     \u001b[0mtotals_fila\u001b[0m \u001b[0;34m=\u001b[0m \u001b[0mtaula\u001b[0m\u001b[0;34m.\u001b[0m\u001b[0msum\u001b[0m\u001b[0;34m(\u001b[0m\u001b[0maxis\u001b[0m\u001b[0;34m=\u001b[0m\u001b[0;36m1\u001b[0m\u001b[0;34m)\u001b[0m\u001b[0;34m\u001b[0m\u001b[0;34m\u001b[0m\u001b[0m\n",
      "\u001b[0;31mException\u001b[0m: ERROR: L'array no és una taula"
     ]
    }
   ],
   "source": [
    "def totalsFilaColumna(taula):\n",
    "    if taula.ndim != 2:\n",
    "        raise Exception(\"ERROR: L'array no és una taula\")\n",
    "    \n",
    "    totals_fila = taula.sum(axis=1)\n",
    "    totals_col = taula.sum(axis=0)\n",
    "    \n",
    "    return totals_fila, totals_col\n",
    "\n",
    "\n",
    "taula = np.arange(12).reshape((3, 4))\n",
    "fila, col = totalsFilaColumna(taula)\n",
    "print(taula)\n",
    "print(fila)\n",
    "print(col)\n",
    "\n",
    "taula = np.arange(27).reshape((3, 3, 3))\n",
    "fila, col = totalsFilaColumna(taula)\n",
    "print(taula)\n",
    "print(fila)\n",
    "print(col)"
   ]
  },
  {
   "cell_type": "markdown",
   "id": "af6509b9",
   "metadata": {},
   "source": [
    "## Exercici 4\n",
    "Implementa manualment una funció que calculi el coeficient de correlació. Informa’t-en sobre els seus usos i interpretació."
   ]
  },
  {
   "cell_type": "code",
   "execution_count": 54,
   "id": "41a16dba",
   "metadata": {},
   "outputs": [
    {
     "name": "stdout",
     "output_type": "stream",
     "text": [
      "-0.7\n",
      "-0.7\n"
     ]
    }
   ],
   "source": [
    "def coefRel(array_x, array_y):\n",
    "    # coeficient_correlacio = np.corrcoef(array_x, array_y)[0,1]\n",
    "\n",
    "    mitjana_x = array_x.mean()\n",
    "    mitjana_y = array_y.mean()\n",
    "    \n",
    "    dif_mitjana_x = np.subtract(array_x, mitjana_x)\n",
    "    dif_mitjana_y = np.subtract(array_y, mitjana_y)\n",
    "    \n",
    "    prod_difx_dify = np.multiply(dif_mitjana_x, dif_mitjana_y)\n",
    "    \n",
    "    dif_mitjana_x2 = np.square(np.subtract(array_x, mitjana_x))\n",
    "    dif_mitjana_y2 = np.square(np.subtract(array_y, mitjana_y))\n",
    "    \n",
    "    sum_prod_difx_dify = prod_difx_dify.sum()\n",
    "    sum_dif_mitjana_x2 = dif_mitjana_x2.sum()\n",
    "    sum_dif_mitjana_y2 = dif_mitjana_y2.sum()\n",
    "    \n",
    "    coeficient_correlacio = sum_prod_difx_dify / np.sqrt(np.multiply(sum_dif_mitjana_x2, sum_dif_mitjana_y2))\n",
    "    \n",
    "    return coeficient_correlacio\n",
    "\n",
    "x = np.array([-2, -1, 0, 1, 2])\n",
    "y = np.array([4, 1, 3, 2, 0])\n",
    "print(coefRel(x, y))\n",
    "\n",
    "# Test per comprovar que el resultat de la funció és correcte\n",
    "print(np.corrcoef(x, y)[0,1])"
   ]
  },
  {
   "cell_type": "code",
   "execution_count": null,
   "id": "2e95a931",
   "metadata": {},
   "outputs": [],
   "source": []
  }
 ],
 "metadata": {
  "kernelspec": {
   "display_name": "Python 3 (ipykernel)",
   "language": "python",
   "name": "python3"
  },
  "language_info": {
   "codemirror_mode": {
    "name": "ipython",
    "version": 3
   },
   "file_extension": ".py",
   "mimetype": "text/x-python",
   "name": "python",
   "nbconvert_exporter": "python",
   "pygments_lexer": "ipython3",
   "version": "3.9.7"
  }
 },
 "nbformat": 4,
 "nbformat_minor": 5
}
